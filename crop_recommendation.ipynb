{
  "nbformat": 4,
  "nbformat_minor": 0,
  "metadata": {
    "colab": {
      "provenance": [],
      "include_colab_link": true
    },
    "kernelspec": {
      "name": "python3",
      "display_name": "Python 3"
    },
    "language_info": {
      "name": "python"
    }
  },
  "cells": [
    {
      "cell_type": "markdown",
      "metadata": {
        "id": "view-in-github",
        "colab_type": "text"
      },
      "source": [
        "<a href=\"https://colab.research.google.com/github/sushmithashenoy07/AgriMitra/blob/main/crop_recommendation.ipynb\" target=\"_parent\"><img src=\"https://colab.research.google.com/assets/colab-badge.svg\" alt=\"Open In Colab\"/></a>"
      ]
    },
    {
      "cell_type": "code",
      "execution_count": null,
      "metadata": {
        "id": "Dnu25AHCros1"
      },
      "outputs": [],
      "source": [
        "import pandas as pd\n",
        "from sklearn.model_selection import train_test_split\n",
        "from sklearn.ensemble import RandomForestRegressor\n",
        "from sklearn.metrics import mean_squared_error"
      ]
    },
    {
      "cell_type": "code",
      "source": [
        "# Load the crop recommendation and market price datasets\n",
        "crop_data_file = '/Crop_recommendation.csv'  # Replace with actual path\n",
        "market_data_file = '/cropmarketprice.csv'    # Replace with actual path\n"
      ],
      "metadata": {
        "id": "LpoB3ARmsl06"
      },
      "execution_count": null,
      "outputs": []
    },
    {
      "cell_type": "code",
      "source": [
        "crop_data = pd.read_csv(crop_data_file)\n",
        "market_data = pd.read_csv(market_data_file)"
      ],
      "metadata": {
        "id": "ughH_UPqspa4"
      },
      "execution_count": null,
      "outputs": []
    },
    {
      "cell_type": "code",
      "source": [
        "# Check the column names of both dataframes\n",
        "print(\"Crop Data Columns:\", crop_data.columns)\n",
        "print(\"Market Data Columns:\", market_data.columns)\n"
      ],
      "metadata": {
        "colab": {
          "base_uri": "https://localhost:8080/"
        },
        "id": "L99YQeDcsuBT",
        "outputId": "a46084db-cc2e-4ca3-f0da-3e97858f035e"
      },
      "execution_count": null,
      "outputs": [
        {
          "output_type": "stream",
          "name": "stdout",
          "text": [
            "Crop Data Columns: Index(['N', 'P', 'K', 'temperature', 'humidity', 'ph', 'rainfall', 'label'], dtype='object')\n",
            "Market Data Columns: Index(['State', 'District', 'Market', 'Commodity', 'Variety', 'Grade',\n",
            "       'Arrival_Date', 'Min_x0020_Price', 'Max_x0020_Price',\n",
            "       'Modal_x0020_Price'],\n",
            "      dtype='object')\n"
          ]
        }
      ]
    },
    {
      "cell_type": "code",
      "source": [
        "# Merge the two datasets on 'label' (from crop_data) and 'Commodity' (from market_data)\n",
        "merged_data = pd.merge(crop_data, market_data, left_on='label', right_on='Commodity')\n"
      ],
      "metadata": {
        "id": "3ncBgZqQtVFB"
      },
      "execution_count": null,
      "outputs": []
    },
    {
      "cell_type": "code",
      "source": [
        "# Features from crop data: N, P, K, temperature, humidity, ph, rainfall\n",
        "X = merged_data[['N', 'P', 'K', 'temperature', 'humidity', 'ph', 'rainfall']]\n",
        "\n",
        "# Target variable: Modal price from market data\n",
        "y = merged_data['Modal_x0020_Price']"
      ],
      "metadata": {
        "id": "oByzkxbptqW0"
      },
      "execution_count": null,
      "outputs": []
    },
    {
      "cell_type": "code",
      "source": [
        "print(\"Crop Data Preview:\")\n",
        "print(crop_data.head())"
      ],
      "metadata": {
        "colab": {
          "base_uri": "https://localhost:8080/"
        },
        "id": "g9MDaW7uuXZK",
        "outputId": "c2ffb924-8d53-4642-b2bf-5fa0d4dea6db"
      },
      "execution_count": null,
      "outputs": [
        {
          "output_type": "stream",
          "name": "stdout",
          "text": [
            "Crop Data Preview:\n",
            "    N   P   K  temperature   humidity        ph    rainfall label\n",
            "0  90  42  43    20.879744  82.002744  6.502985  202.935536  rice\n",
            "1  85  58  41    21.770462  80.319644  7.038096  226.655537  rice\n",
            "2  60  55  44    23.004459  82.320763  7.840207  263.964248  rice\n",
            "3  74  35  40    26.491096  80.158363  6.980401  242.864034  rice\n",
            "4  78  42  42    20.130175  81.604873  7.628473  262.717340  rice\n"
          ]
        }
      ]
    },
    {
      "cell_type": "code",
      "source": [
        "print(\"Market Data Preview:\")\n",
        "print(market_data.head())"
      ],
      "metadata": {
        "colab": {
          "base_uri": "https://localhost:8080/"
        },
        "id": "Z9KUx21dubJM",
        "outputId": "18486339-904a-4757-af99-6a83f075e7de"
      },
      "execution_count": null,
      "outputs": [
        {
          "output_type": "stream",
          "name": "stdout",
          "text": [
            "Market Data Preview:\n",
            "            State       District        Market                Commodity  \\\n",
            "0  Andhra Pradesh  East Godavari        Karapa      Paddy(Dhan)(Common)   \n",
            "1  Andhra Pradesh  East Godavari   Ravulapelem                   Banana   \n",
            "2  Andhra Pradesh         Guntur        Tenali                    Lemon   \n",
            "3  Andhra Pradesh        Kurnool       Nandyal      Paddy(Dhan)(Common)   \n",
            "4           Assam        Barpeta  Barpeta Road  French Beans (Frasbean)   \n",
            "\n",
            "                   Variety  Grade Arrival_Date  Min_x0020_Price  \\\n",
            "0                     1001    FAQ   19/09/2024           2183.0   \n",
            "1        Chakkarakeli(Red)  Large   19/09/2024           2400.0   \n",
            "2                    Lemon    FAQ   19/09/2024           4200.0   \n",
            "3             Sona Mahsuri    FAQ   19/09/2024           2290.0   \n",
            "4  French Beans (Frasbean)  Local   19/09/2024           3800.0   \n",
            "\n",
            "   Max_x0020_Price  Modal_x0020_Price  \n",
            "0           2200.0             2183.0  \n",
            "1           3200.0             2800.0  \n",
            "2           7100.0             5800.0  \n",
            "3           2290.0             2290.0  \n",
            "4           4000.0             4000.0  \n"
          ]
        }
      ]
    },
    {
      "cell_type": "code",
      "source": [
        "crop_data['label'] = crop_data['label'].str.strip()\n",
        "market_data['Commodity'] = market_data['Commodity'].str.strip()"
      ],
      "metadata": {
        "id": "pirE5oLnu2I3"
      },
      "execution_count": null,
      "outputs": []
    },
    {
      "cell_type": "code",
      "source": [
        "# Merge the two datasets again\n",
        "merged_data = pd.merge(crop_data, market_data, left_on='label', right_on='Commodity')\n"
      ],
      "metadata": {
        "id": "e0Kv50y4u6QH"
      },
      "execution_count": null,
      "outputs": []
    },
    {
      "cell_type": "code",
      "source": [
        "# Check if the merged data has rows\n",
        "print(f\"Merged Data Shape: {merged_data.shape}\")\n",
        "print(\"Merged Data Preview:\")\n",
        "print(merged_data.head())"
      ],
      "metadata": {
        "colab": {
          "base_uri": "https://localhost:8080/"
        },
        "id": "hzlYXh-au9Sx",
        "outputId": "e2ba7fca-d5f3-4652-d66c-bff6160e0163"
      },
      "execution_count": null,
      "outputs": [
        {
          "output_type": "stream",
          "name": "stdout",
          "text": [
            "Merged Data Shape: (0, 18)\n",
            "Merged Data Preview:\n",
            "Empty DataFrame\n",
            "Columns: [N, P, K, temperature, humidity, ph, rainfall, label, State, District, Market, Commodity, Variety, Grade, Arrival_Date, Min_x0020_Price, Max_x0020_Price, Modal_x0020_Price]\n",
            "Index: []\n"
          ]
        }
      ]
    },
    {
      "cell_type": "code",
      "source": [
        "# Print unique crop names from both datasets\n",
        "print(\"Unique crop names in crop data (label column):\")\n",
        "print(crop_data['label'].unique())\n",
        "\n",
        "print(\"\\nUnique commodities in market data (Commodity column):\")\n",
        "print(market_data['Commodity'].unique())\n"
      ],
      "metadata": {
        "colab": {
          "base_uri": "https://localhost:8080/"
        },
        "id": "sdWC-ZmFu_YZ",
        "outputId": "d7c63bd9-f12c-4f36-ade9-a5394eb85eb0"
      },
      "execution_count": null,
      "outputs": [
        {
          "output_type": "stream",
          "name": "stdout",
          "text": [
            "Unique crop names in crop data (label column):\n",
            "['rice' 'maize' 'chickpea' 'kidneybeans' 'pigeonpeas' 'mothbeans'\n",
            " 'mungbean' 'blackgram' 'lentil' 'pomegranate' 'banana' 'mango' 'grapes'\n",
            " 'watermelon' 'muskmelon' 'apple' 'orange' 'papaya' 'coconut' 'cotton'\n",
            " 'jute' 'coffee']\n",
            "\n",
            "Unique commodities in market data (Commodity column):\n",
            "['Paddy(Dhan)(Common)' 'Banana' 'Lemon' 'French Beans (Frasbean)'\n",
            " 'Bhindi(Ladies Finger)' 'Cabbage' 'Pumpkin' 'Capsicum' 'Onion' 'Potato'\n",
            " 'Bottle gourd' 'Tomato' 'Soyabean' 'Coriander(Leaves)'\n",
            " 'Green Gram (Moong)(Whole)' 'Cucumbar(Kheera)' 'Ginger(Green)'\n",
            " 'Green Chilli' 'Papaya' 'Pomegranate' 'Ridgeguard(Tori)'\n",
            " 'Bajra(Pearl Millet/Cumbu)' 'Castor Seed' 'Isabgul (Psyllium)' 'Soanf'\n",
            " 'Suva (Dill Seed)' 'Maize' 'Cotton' 'Wheat' 'Arhar (Tur/Red Gram)(Whole)'\n",
            " 'Bitter gourd' 'Brinjal' 'Corriander seed' 'Groundnut'\n",
            " 'Sesamum(Sesame,Gingelly,Til)' 'Mustard' 'Black Gram (Urd Beans)(Whole)'\n",
            " 'Millets' 'Methi Seeds' 'Bengal Gram(Gram)(Whole)' 'Cummin Seed(Jeera)'\n",
            " 'Kulthi(Horse Gram)' 'Pegeon Pea (Arhar Fali)' 'Tinda'\n",
            " 'Guar Seed(Cluster Beans Seed)' 'Carrot' 'Beans' 'Amaranthus' 'Spinach'\n",
            " 'Apple' 'Cauliflower' 'Peas Wet' 'Mousambi(Sweet Lime)' 'Colacasia'\n",
            " 'Raddish' 'Orange' 'Pineapple' 'Guava' 'Water Melon' 'Ginger(Dry)'\n",
            " 'Mashrooms' 'Sponge gourd' 'Pear(Marasebu)' 'Garlic'\n",
            " 'Indian Beans (Seam)' 'Chilly Capsicum' 'Rice' 'Drumstick' 'Amphophalus'\n",
            " 'Cowpea(Veg)' 'Ashgourd' 'Banana - Green' 'Little gourd (Kundru)'\n",
            " 'Mint(Pudina)' 'Mango (Raw-Ripe)' 'Snakeguard' 'Beetroot' 'Coconut'\n",
            " 'Long Melon(Kakri)' 'Cluster beans' 'Tapioca' 'Mango' 'Sweet Potato'\n",
            " 'Coconut Seed' 'Linseed' 'Kutki' 'gulli' 'Guar' 'Chikoos(Sapota)'\n",
            " 'Rajgir' 'Tender Coconut' 'Methi(Leaves)' 'Onion Green' 'Betal Leaves'\n",
            " 'Tamarind Fruit' 'Pointed gourd (Parval)' 'Round gourd'\n",
            " 'Karbuja(Musk Melon)' 'Barley (Jau)' 'Lime' 'Chow Chow' 'Green Avare (W)'\n",
            " 'Marigold(Calcutta)' 'Knool Khol' 'Thondekai' 'Turnip'\n",
            " 'Elephant Yam (Suran)' 'Fig(Anjura/Anjeer)' 'Grapes' 'Amla(Nelli Kai)'\n",
            " 'Custard Apple (Sharifa)' 'Tube Flower' 'Yam (Ratalu)'\n",
            " 'Jamun(Narale Hannu)' 'Rose(Local)' 'Tube Rose(Loose)' 'Green Peas'\n",
            " 'Kakada' 'Jack Fruit' 'Jasmine' 'Masur Dal' 'Arhar Dal(Tur Dal)'\n",
            " 'Black Gram Dal (Urd Dal)' 'Gur(Jaggery)' 'Bengal Gram Dal (Chana Dal)'\n",
            " 'White Peas' 'Peas(Dry)' 'Lentil (Masur)(Whole)' 'Sugar' 'Wood'\n",
            " 'Red Gram' 'Arecanut(Betelnut/Supari)' 'Gram Raw(Chholia)'\n",
            " 'Jowar(Sorghum)' 'Seemebadnekai' 'Cowpea (Lobia/Karamani)'\n",
            " 'Ragi (Finger Millet)' 'Field Pea' 'Black pepper' 'Sweet Pumpkin'\n",
            " 'Seetapal' 'Squash(Chappal Kadoo)' 'Cashewnuts' 'Chili Red' 'Bull'\n",
            " 'Leafy Vegetable' 'Mustard Oil' 'Papaya (Raw)' 'Fish' 'Turmeric'\n",
            " 'Groundnut (Split)' 'Kartali (Kantola)' 'Ground Nut Seed'\n",
            " 'Persimon(Japani Fal)' 'Walnut' 'Sunflower' 'Coconut Oil'\n",
            " 'Paddy(Dhan)(Basmati)' 'Lak(Teora)' 'Peas cod' 'Copra' 'Duster Beans'\n",
            " 'Kabuli Chana(Chickpeas-White)' 'Kodo Millet(Varagu)' 'Plum' 'Taramira'\n",
            " 'Ghee' 'Green Gram Dal (Moong Dal)' 'Firewood' 'Season Leaves'\n",
            " 'Lotus Sticks' 'Bunch Beans' 'Alsandikai' 'Jute']\n"
          ]
        }
      ]
    },
    {
      "cell_type": "code",
      "source": [
        "crop_to_commodity_mapping = {\n",
        "    'rice': 'Paddy(Dhan)(Common)',\n",
        "    'maize': 'Maize',\n",
        "    'chickpea': 'Kabuli Chana(Chickpeas-White)',\n",
        "    'kidneybeans': 'Rajma',\n",
        "    'pigeonpeas': 'Arhar (Tur/Red Gram)(Whole)',\n",
        "    'mothbeans': 'Moth Beans',\n",
        "    'mungbean': 'Green Gram (Moong)(Whole)',\n",
        "    'blackgram': 'Black Gram (Urd Beans)(Whole)',\n",
        "    'lentil': 'Lentil (Masur)(Whole)',\n",
        "    'pomegranate': 'Pomegranate',\n",
        "    'banana': 'Banana',\n",
        "    'mango': 'Mango',\n",
        "    'grapes': 'Grapes',\n",
        "    'watermelon': 'Water Melon',\n",
        "    'muskmelon': 'Karbuja(Musk Melon)',\n",
        "    'apple': 'Apple',\n",
        "    'orange': 'Orange',\n",
        "    'papaya': 'Papaya',\n",
        "    'coconut': 'Coconut',\n",
        "    'cotton': 'Cotton',\n",
        "    'jute': 'Jute',\n",
        "    'coffee': 'Coffee',\n",
        "    'pigeonpeas': 'Arhar (Tur/Red Gram)(Whole)',\n",
        "    'mustard': 'Mustard',\n",
        "    'soybean': 'Soyabean',\n",
        "    'groundnut': 'Groundnut',\n",
        "    'wheat': 'Wheat',\n",
        "    'millets': 'Millets',\n",
        "    'sugarcane': 'Sugarcane',\n",
        "    'potato': 'Potato',\n",
        "    'onion': 'Onion',\n",
        "    'tomato': 'Tomato',\n",
        "    'brinjal': 'Brinjal',\n",
        "    'cabbage': 'Cabbage',\n",
        "    'cauliflower': 'Cauliflower',\n",
        "    'bhindi': 'Bhindi(Ladies Finger)',\n",
        "    'pumpkin': 'Pumpkin',\n",
        "    'bottle_gourd': 'Bottle gourd',\n",
        "    'ridge_gourd': 'Ridgeguard(Tori)',\n",
        "    'bitter_gourd': 'Bitter gourd',\n",
        "    'chillies': 'Green Chilli',\n",
        "    'garlic': 'Garlic',\n",
        "    'ginger': 'Ginger(Green)',\n",
        "    'turmeric': 'Turmeric',\n",
        "    'spinach': 'Spinach',\n",
        "    'coriander': 'Coriander(Leaves)',\n",
        "    'mint': 'Mint(Pudina)',\n",
        "    'beetroot': 'Beetroot',\n",
        "    'carrot': 'Carrot',\n",
        "    'peas': 'Green Peas',\n",
        "    'guava': 'Guava',\n",
        "    'pineapple': 'Pineapple',\n",
        "    'lime': 'Lime',\n",
        "    'mousambi': 'Mousambi(Sweet Lime)',\n",
        "    'jackfruit': 'Jack Fruit',\n",
        "    'cashew': 'Cashewnuts',\n",
        "    'sapota': 'Chikoos(Sapota)',\n",
        "    'fig': 'Fig(Anjura/Anjeer)',\n",
        "    'amla': 'Amla(Nelli Kai)',\n",
        "    'jamun': 'Jamun(Narale Hannu)',\n",
        "    'custard_apple': 'Custard Apple (Sharifa)',\n",
        "    # Add additional mappings as needed if any are missing\n",
        "}"
      ],
      "metadata": {
        "id": "ymUEgWt3vKZi"
      },
      "execution_count": null,
      "outputs": []
    },
    {
      "cell_type": "code",
      "source": [
        "# Replace the 'label' values in crop_data with corresponding 'Commodity' values from market_data\n",
        "crop_data['label_mapped'] = crop_data['label'].map(crop_to_commodity_mapping)\n"
      ],
      "metadata": {
        "id": "cq85ANGzwGoD"
      },
      "execution_count": null,
      "outputs": []
    },
    {
      "cell_type": "code",
      "source": [
        "# Check if there are any unmapped values\n",
        "unmapped = crop_data[crop_data['label_mapped'].isna()]\n",
        "print(f\"Unmapped crops: {unmapped['label'].unique()}\")"
      ],
      "metadata": {
        "colab": {
          "base_uri": "https://localhost:8080/"
        },
        "id": "NWSypv3NwJLy",
        "outputId": "9cd606d2-00f7-47b3-dd73-846f5838d874"
      },
      "execution_count": null,
      "outputs": [
        {
          "output_type": "stream",
          "name": "stdout",
          "text": [
            "Unmapped crops: []\n"
          ]
        }
      ]
    },
    {
      "cell_type": "code",
      "source": [
        "crop_data = crop_data.dropna(subset=['label_mapped'])"
      ],
      "metadata": {
        "id": "2dWrBKCjwLy2"
      },
      "execution_count": null,
      "outputs": []
    },
    {
      "cell_type": "code",
      "source": [
        "# Merge crop data with market data on the mapped labels\n",
        "merged_data = pd.merge(crop_data, market_data, left_on='label_mapped', right_on='Commodity')\n"
      ],
      "metadata": {
        "id": "gmekqrJ2wQpI"
      },
      "execution_count": null,
      "outputs": []
    },
    {
      "cell_type": "code",
      "source": [
        "# Check the result of the merge\n",
        "print(f\"Merged Data Shape: {merged_data.shape}\")\n",
        "print(\"Merged Data Preview:\")\n",
        "print(merged_data.head())"
      ],
      "metadata": {
        "colab": {
          "base_uri": "https://localhost:8080/"
        },
        "id": "6SLVK0KzwUsZ",
        "outputId": "2b133b3a-6255-4522-b278-53d819428206"
      },
      "execution_count": null,
      "outputs": [
        {
          "output_type": "stream",
          "name": "stdout",
          "text": [
            "Merged Data Shape: (130700, 19)\n",
            "Merged Data Preview:\n",
            "    N   P   K  temperature   humidity        ph    rainfall label  \\\n",
            "0  90  42  43    20.879744  82.002744  6.502985  202.935536  rice   \n",
            "1  90  42  43    20.879744  82.002744  6.502985  202.935536  rice   \n",
            "2  90  42  43    20.879744  82.002744  6.502985  202.935536  rice   \n",
            "3  90  42  43    20.879744  82.002744  6.502985  202.935536  rice   \n",
            "4  90  42  43    20.879744  82.002744  6.502985  202.935536  rice   \n",
            "\n",
            "          label_mapped           State       District      Market  \\\n",
            "0  Paddy(Dhan)(Common)  Andhra Pradesh  East Godavari      Karapa   \n",
            "1  Paddy(Dhan)(Common)  Andhra Pradesh        Kurnool     Nandyal   \n",
            "2  Paddy(Dhan)(Common)     Chattisgarh       Dhamtari   Belargaon   \n",
            "3  Paddy(Dhan)(Common)     Chattisgarh       Dhamtari      Boraee   \n",
            "4  Paddy(Dhan)(Common)     Chattisgarh       Dhamtari  Gattasilli   \n",
            "\n",
            "             Commodity       Variety Grade Arrival_Date  Min_x0020_Price  \\\n",
            "0  Paddy(Dhan)(Common)          1001   FAQ   19/09/2024           2183.0   \n",
            "1  Paddy(Dhan)(Common)  Sona Mahsuri   FAQ   19/09/2024           2290.0   \n",
            "2  Paddy(Dhan)(Common)       I.R. 36   FAQ   19/09/2024           1900.0   \n",
            "3  Paddy(Dhan)(Common)       I.R. 36   FAQ   19/09/2024           1950.0   \n",
            "4  Paddy(Dhan)(Common)       I.R. 36   FAQ   19/09/2024           1900.0   \n",
            "\n",
            "   Max_x0020_Price  Modal_x0020_Price  \n",
            "0           2200.0             2183.0  \n",
            "1           2290.0             2290.0  \n",
            "2           1900.0             1900.0  \n",
            "3           1950.0             1950.0  \n",
            "4           1900.0             1900.0  \n"
          ]
        }
      ]
    },
    {
      "cell_type": "code",
      "source": [
        "# Feature selection for machine learning\n",
        "X = merged_data[['N', 'P', 'K', 'temperature', 'humidity', 'ph', 'rainfall']]  # Features from crop data\n",
        "y = merged_data['Modal_x0020_Price']  # Target: Market price\n"
      ],
      "metadata": {
        "id": "SLJCnOVgwXSr"
      },
      "execution_count": null,
      "outputs": []
    },
    {
      "cell_type": "code",
      "source": [
        "# Split data into training and testing sets\n",
        "X_train, X_test, y_train, y_test = train_test_split(X, y, test_size=0.3, random_state=42)\n"
      ],
      "metadata": {
        "id": "5gWguqgYw2rh"
      },
      "execution_count": null,
      "outputs": []
    },
    {
      "cell_type": "code",
      "source": [
        "from sklearn.ensemble import RandomForestRegressor\n",
        "from sklearn.metrics import mean_squared_error\n",
        "model = RandomForestRegressor(n_estimators=100, random_state=42)\n",
        "model.fit(X_train, y_train)"
      ],
      "metadata": {
        "colab": {
          "base_uri": "https://localhost:8080/",
          "height": 74
        },
        "id": "qssUTip4w50T",
        "outputId": "f1a928cb-d435-42a3-a81b-46eedd07ea98"
      },
      "execution_count": null,
      "outputs": [
        {
          "output_type": "execute_result",
          "data": {
            "text/plain": [
              "RandomForestRegressor(random_state=42)"
            ],
            "text/html": [
              "<style>#sk-container-id-2 {color: black;}#sk-container-id-2 pre{padding: 0;}#sk-container-id-2 div.sk-toggleable {background-color: white;}#sk-container-id-2 label.sk-toggleable__label {cursor: pointer;display: block;width: 100%;margin-bottom: 0;padding: 0.3em;box-sizing: border-box;text-align: center;}#sk-container-id-2 label.sk-toggleable__label-arrow:before {content: \"▸\";float: left;margin-right: 0.25em;color: #696969;}#sk-container-id-2 label.sk-toggleable__label-arrow:hover:before {color: black;}#sk-container-id-2 div.sk-estimator:hover label.sk-toggleable__label-arrow:before {color: black;}#sk-container-id-2 div.sk-toggleable__content {max-height: 0;max-width: 0;overflow: hidden;text-align: left;background-color: #f0f8ff;}#sk-container-id-2 div.sk-toggleable__content pre {margin: 0.2em;color: black;border-radius: 0.25em;background-color: #f0f8ff;}#sk-container-id-2 input.sk-toggleable__control:checked~div.sk-toggleable__content {max-height: 200px;max-width: 100%;overflow: auto;}#sk-container-id-2 input.sk-toggleable__control:checked~label.sk-toggleable__label-arrow:before {content: \"▾\";}#sk-container-id-2 div.sk-estimator input.sk-toggleable__control:checked~label.sk-toggleable__label {background-color: #d4ebff;}#sk-container-id-2 div.sk-label input.sk-toggleable__control:checked~label.sk-toggleable__label {background-color: #d4ebff;}#sk-container-id-2 input.sk-hidden--visually {border: 0;clip: rect(1px 1px 1px 1px);clip: rect(1px, 1px, 1px, 1px);height: 1px;margin: -1px;overflow: hidden;padding: 0;position: absolute;width: 1px;}#sk-container-id-2 div.sk-estimator {font-family: monospace;background-color: #f0f8ff;border: 1px dotted black;border-radius: 0.25em;box-sizing: border-box;margin-bottom: 0.5em;}#sk-container-id-2 div.sk-estimator:hover {background-color: #d4ebff;}#sk-container-id-2 div.sk-parallel-item::after {content: \"\";width: 100%;border-bottom: 1px solid gray;flex-grow: 1;}#sk-container-id-2 div.sk-label:hover label.sk-toggleable__label {background-color: #d4ebff;}#sk-container-id-2 div.sk-serial::before {content: \"\";position: absolute;border-left: 1px solid gray;box-sizing: border-box;top: 0;bottom: 0;left: 50%;z-index: 0;}#sk-container-id-2 div.sk-serial {display: flex;flex-direction: column;align-items: center;background-color: white;padding-right: 0.2em;padding-left: 0.2em;position: relative;}#sk-container-id-2 div.sk-item {position: relative;z-index: 1;}#sk-container-id-2 div.sk-parallel {display: flex;align-items: stretch;justify-content: center;background-color: white;position: relative;}#sk-container-id-2 div.sk-item::before, #sk-container-id-2 div.sk-parallel-item::before {content: \"\";position: absolute;border-left: 1px solid gray;box-sizing: border-box;top: 0;bottom: 0;left: 50%;z-index: -1;}#sk-container-id-2 div.sk-parallel-item {display: flex;flex-direction: column;z-index: 1;position: relative;background-color: white;}#sk-container-id-2 div.sk-parallel-item:first-child::after {align-self: flex-end;width: 50%;}#sk-container-id-2 div.sk-parallel-item:last-child::after {align-self: flex-start;width: 50%;}#sk-container-id-2 div.sk-parallel-item:only-child::after {width: 0;}#sk-container-id-2 div.sk-dashed-wrapped {border: 1px dashed gray;margin: 0 0.4em 0.5em 0.4em;box-sizing: border-box;padding-bottom: 0.4em;background-color: white;}#sk-container-id-2 div.sk-label label {font-family: monospace;font-weight: bold;display: inline-block;line-height: 1.2em;}#sk-container-id-2 div.sk-label-container {text-align: center;}#sk-container-id-2 div.sk-container {/* jupyter's `normalize.less` sets `[hidden] { display: none; }` but bootstrap.min.css set `[hidden] { display: none !important; }` so we also need the `!important` here to be able to override the default hidden behavior on the sphinx rendered scikit-learn.org. See: https://github.com/scikit-learn/scikit-learn/issues/21755 */display: inline-block !important;position: relative;}#sk-container-id-2 div.sk-text-repr-fallback {display: none;}</style><div id=\"sk-container-id-2\" class=\"sk-top-container\"><div class=\"sk-text-repr-fallback\"><pre>RandomForestRegressor(random_state=42)</pre><b>In a Jupyter environment, please rerun this cell to show the HTML representation or trust the notebook. <br />On GitHub, the HTML representation is unable to render, please try loading this page with nbviewer.org.</b></div><div class=\"sk-container\" hidden><div class=\"sk-item\"><div class=\"sk-estimator sk-toggleable\"><input class=\"sk-toggleable__control sk-hidden--visually\" id=\"sk-estimator-id-2\" type=\"checkbox\" checked><label for=\"sk-estimator-id-2\" class=\"sk-toggleable__label sk-toggleable__label-arrow\">RandomForestRegressor</label><div class=\"sk-toggleable__content\"><pre>RandomForestRegressor(random_state=42)</pre></div></div></div></div></div>"
            ]
          },
          "metadata": {},
          "execution_count": 36
        }
      ]
    },
    {
      "cell_type": "code",
      "source": [
        "# Predict prices on test set\n",
        "y_pred = model.predict(X_test)"
      ],
      "metadata": {
        "id": "F2isn6pIw8rO"
      },
      "execution_count": null,
      "outputs": []
    },
    {
      "cell_type": "code",
      "source": [
        "# Calculate error\n",
        "from sklearn.metrics import mean_absolute_error\n",
        "mse = mean_squared_error(y_test, y_pred)\n",
        "print(f'Mean Squared Error: {mse}')"
      ],
      "metadata": {
        "colab": {
          "base_uri": "https://localhost:8080/"
        },
        "id": "_zF3J7J4xLxQ",
        "outputId": "889102de-c3e4-4246-8ad9-dc0ac497054f"
      },
      "execution_count": null,
      "outputs": [
        {
          "output_type": "stream",
          "name": "stdout",
          "text": [
            "Mean Squared Error: 8536720.819669448\n"
          ]
        }
      ]
    },
    {
      "cell_type": "code",
      "source": [
        "# Get the top 3 crops based on the highest predicted prices\n",
        "top_crops = merged_data[['label_mapped', 'Predicted_Price']].sort_values(by='Predicted_Price', ascending=False).head(3)\n"
      ],
      "metadata": {
        "id": "nPorqC42xN22"
      },
      "execution_count": null,
      "outputs": []
    },
    {
      "cell_type": "code",
      "source": [
        "print(\"\\nTop 3 recommended crops based on market price:\")\n",
        "print(top_crops)"
      ],
      "metadata": {
        "colab": {
          "base_uri": "https://localhost:8080/"
        },
        "id": "H0Cfz3syxaLM",
        "outputId": "a1d861f1-87d0-4ef5-dd32-e45b1e34cf0e"
      },
      "execution_count": null,
      "outputs": [
        {
          "output_type": "stream",
          "name": "stdout",
          "text": [
            "\n",
            "Top 3 recommended crops based on market price:\n",
            "      label_mapped  Predicted_Price\n",
            "67660       Grapes     12567.844256\n",
            "67661       Grapes     12567.844256\n",
            "67663       Grapes     12567.844256\n"
          ]
        }
      ]
    },
    {
      "cell_type": "code",
      "source": [
        "top_crops.to_csv('top_crops_recommendation.csv', index=False)"
      ],
      "metadata": {
        "id": "oeuGQJozxgHF"
      },
      "execution_count": null,
      "outputs": []
    },
    {
      "cell_type": "code",
      "source": [
        "print(\"\\nTop 3 recommended crops based on market price:\")\n",
        "print(top_crops)"
      ],
      "metadata": {
        "colab": {
          "base_uri": "https://localhost:8080/"
        },
        "id": "J3S-sPrOxm9s",
        "outputId": "35fbaddf-7046-4f89-eeb5-653cd536ba91"
      },
      "execution_count": null,
      "outputs": [
        {
          "output_type": "stream",
          "name": "stdout",
          "text": [
            "\n",
            "Top 3 recommended crops based on market price:\n",
            "      label_mapped  Predicted_Price\n",
            "67660       Grapes     12567.844256\n",
            "67661       Grapes     12567.844256\n",
            "67663       Grapes     12567.844256\n"
          ]
        }
      ]
    },
    {
      "cell_type": "code",
      "source": [
        "from sklearn.metrics import mean_squared_error, r2_score\n",
        "\n",
        "# Calculate MSE\n",
        "mse = mean_squared_error(y_test, y_pred)\n",
        "print(f\"Mean Squared Error: {mse}\")\n",
        "\n",
        "# Calculate RMSE\n",
        "rmse = mse**0.5\n",
        "print(f\"Root Mean Squared Error: {rmse}\")\n",
        "\n",
        "# Calculate R-squared\n",
        "r2 = r2_score(y_test, y_pred)\n",
        "print(f\"R-squared: {r2}\")\n"
      ],
      "metadata": {
        "colab": {
          "base_uri": "https://localhost:8080/"
        },
        "id": "k27qMvA75S-5",
        "outputId": "285638e3-7b7c-46a6-df86-c77c76eae0ff"
      },
      "execution_count": null,
      "outputs": [
        {
          "output_type": "stream",
          "name": "stdout",
          "text": [
            "Mean Squared Error: 8536720.819669448\n",
            "Root Mean Squared Error: 2921.7667291673797\n",
            "R-squared: 0.5145495227787191\n"
          ]
        }
      ]
    },
    {
      "cell_type": "code",
      "source": [
        "import pandas as pd\n",
        "from sklearn.model_selection import train_test_split\n",
        "from sklearn.svm import SVR\n",
        "from sklearn.ensemble import RandomForestRegressor\n",
        "from sklearn.metrics import mean_squared_error, r2_score\n",
        "from sklearn.preprocessing import StandardScaler\n",
        "from sklearn.ensemble import StackingRegressor\n"
      ],
      "metadata": {
        "id": "fic3CqN_6IF7"
      },
      "execution_count": null,
      "outputs": []
    },
    {
      "cell_type": "code",
      "source": [
        "crop_data = pd.read_csv('//Crop_recommendation.csv')  # Adjust path if necessary\n",
        "market_data = pd.read_csv('//cropmarketprice.csv')  # Adjust path if necessary\n"
      ],
      "metadata": {
        "id": "TLRNa9C2bJOD"
      },
      "execution_count": null,
      "outputs": []
    },
    {
      "cell_type": "code",
      "source": [
        "crop_to_commodity_mapping = {\n",
        "    'rice': 'Paddy(Dhan)(Common)',\n",
        "    'maize': 'Maize',\n",
        "    'chickpea': 'Kabuli Chana(Chickpeas-White)',\n",
        "    'kidneybeans': 'Rajma',\n",
        "    'pigeonpeas': 'Arhar (Tur/Red Gram)(Whole)',\n",
        "    'mothbeans': 'Moth Beans',\n",
        "    'mungbean': 'Green Gram (Moong)(Whole)',\n",
        "    'blackgram': 'Black Gram (Urd Beans)(Whole)',\n",
        "    'lentil': 'Lentil (Masur)(Whole)',\n",
        "    'pomegranate': 'Pomegranate',\n",
        "    'banana': 'Banana',\n",
        "    'mango': 'Mango',\n",
        "    'grapes': 'Grapes',\n",
        "    'watermelon': 'Water Melon',\n",
        "    'muskmelon': 'Karbuja(Musk Melon)',\n",
        "    'apple': 'Apple',\n",
        "    'orange': 'Orange',\n",
        "    'papaya': 'Papaya',\n",
        "    'coconut': 'Coconut',\n",
        "    'cotton': 'Cotton',\n",
        "    'jute': 'Jute',\n",
        "    'coffee': 'Coffee',\n",
        "    'pigeonpeas': 'Arhar (Tur/Red Gram)(Whole)',\n",
        "    'mustard': 'Mustard',\n",
        "    'soybean': 'Soyabean',\n",
        "    'groundnut': 'Groundnut',\n",
        "    'wheat': 'Wheat',\n",
        "    'millets': 'Millets',\n",
        "    'sugarcane': 'Sugarcane',\n",
        "    'potato': 'Potato',\n",
        "    'onion': 'Onion',\n",
        "    'tomato': 'Tomato',\n",
        "    'brinjal': 'Brinjal',\n",
        "    'cabbage': 'Cabbage',\n",
        "    'cauliflower': 'Cauliflower',\n",
        "    'bhindi': 'Bhindi(Ladies Finger)',\n",
        "    'pumpkin': 'Pumpkin',\n",
        "    'bottle_gourd': 'Bottle gourd',\n",
        "    'ridge_gourd': 'Ridgeguard(Tori)',\n",
        "    'bitter_gourd': 'Bitter gourd',\n",
        "    'chillies': 'Green Chilli',\n",
        "    'garlic': 'Garlic',\n",
        "    'ginger': 'Ginger(Green)',\n",
        "    'turmeric': 'Turmeric',\n",
        "    'spinach': 'Spinach',\n",
        "    'coriander': 'Coriander(Leaves)',\n",
        "    'mint': 'Mint(Pudina)',\n",
        "    'beetroot': 'Beetroot',\n",
        "    'carrot': 'Carrot',\n",
        "    'peas': 'Green Peas',\n",
        "    'guava': 'Guava',\n",
        "    'pineapple': 'Pineapple',\n",
        "    'lime': 'Lime',\n",
        "    'mousambi': 'Mousambi(Sweet Lime)',\n",
        "    'jackfruit': 'Jack Fruit',\n",
        "    'cashew': 'Cashewnuts',\n",
        "    'sapota': 'Chikoos(Sapota)',\n",
        "    'fig': 'Fig(Anjura/Anjeer)',\n",
        "    'amla': 'Amla(Nelli Kai)',\n",
        "    'jamun': 'Jamun(Narale Hannu)',\n",
        "    'custard_apple': 'Custard Apple (Sharifa)',\n",
        "    # Add additional mappings as needed if any are missing\n",
        "}"
      ],
      "metadata": {
        "id": "EBoye9ktbMmH"
      },
      "execution_count": null,
      "outputs": []
    },
    {
      "cell_type": "code",
      "source": [
        "crop_data['label_mapped'] = crop_data['label'].map(crop_to_commodity_mapping)"
      ],
      "metadata": {
        "id": "7ePllLG_bXC9"
      },
      "execution_count": null,
      "outputs": []
    },
    {
      "cell_type": "code",
      "source": [
        "unmapped = crop_data[crop_data['label_mapped'].isna()]\n",
        "print(f\"Unmapped crops: {unmapped['label'].unique()}\")"
      ],
      "metadata": {
        "colab": {
          "base_uri": "https://localhost:8080/"
        },
        "id": "hax-7vtVbZb-",
        "outputId": "e0d3d8bf-914a-45af-de0f-d721904c2459"
      },
      "execution_count": null,
      "outputs": [
        {
          "output_type": "stream",
          "name": "stdout",
          "text": [
            "Unmapped crops: []\n"
          ]
        }
      ]
    },
    {
      "cell_type": "code",
      "source": [
        "crop_data = crop_data.dropna(subset=['label_mapped'])"
      ],
      "metadata": {
        "id": "y_Fc5Gllbbnn"
      },
      "execution_count": null,
      "outputs": []
    },
    {
      "cell_type": "code",
      "source": [
        "merged_data = pd.merge(crop_data, market_data, left_on='label_mapped', right_on='Commodity')"
      ],
      "metadata": {
        "id": "gmERpLzUbeg_"
      },
      "execution_count": null,
      "outputs": []
    },
    {
      "cell_type": "code",
      "source": [
        "X = merged_data[['N', 'P', 'K', 'temperature', 'humidity', 'ph', 'rainfall']]  # Features from crop data\n",
        "y = merged_data['Modal_x0020_Price']  # Target: Market price"
      ],
      "metadata": {
        "id": "ecfoWYLUbg2m"
      },
      "execution_count": null,
      "outputs": []
    },
    {
      "cell_type": "code",
      "source": [
        "X_train, X_test, y_train, y_test = train_test_split(X, y, test_size=0.3, random_state=42)\n"
      ],
      "metadata": {
        "id": "KCCxckm0bjtE"
      },
      "execution_count": null,
      "outputs": []
    },
    {
      "cell_type": "code",
      "source": [
        "scaler = StandardScaler()\n",
        "X_train_scaled = scaler.fit_transform(X_train)\n",
        "X_test_scaled = scaler.transform(X_test)"
      ],
      "metadata": {
        "id": "xpdjh0GkbmAR"
      },
      "execution_count": null,
      "outputs": []
    },
    {
      "cell_type": "code",
      "source": [
        "svm_model = SVR(kernel='rbf')\n",
        "rf_model = RandomForestRegressor(n_estimators=100, random_state=42)"
      ],
      "metadata": {
        "id": "_KHcUFVXboIM"
      },
      "execution_count": null,
      "outputs": []
    },
    {
      "cell_type": "code",
      "source": [
        "svm_model.fit(X_train_scaled, y_train)\n",
        "rf_model.fit(X_train, y_train)"
      ],
      "metadata": {
        "colab": {
          "base_uri": "https://localhost:8080/",
          "height": 74
        },
        "id": "FXOzR4sLbqqG",
        "outputId": "a3b0b1b4-5ff9-422a-fb38-4c882b455883"
      },
      "execution_count": null,
      "outputs": [
        {
          "output_type": "execute_result",
          "data": {
            "text/plain": [
              "RandomForestRegressor(random_state=42)"
            ],
            "text/html": [
              "<style>#sk-container-id-1 {color: black;}#sk-container-id-1 pre{padding: 0;}#sk-container-id-1 div.sk-toggleable {background-color: white;}#sk-container-id-1 label.sk-toggleable__label {cursor: pointer;display: block;width: 100%;margin-bottom: 0;padding: 0.3em;box-sizing: border-box;text-align: center;}#sk-container-id-1 label.sk-toggleable__label-arrow:before {content: \"▸\";float: left;margin-right: 0.25em;color: #696969;}#sk-container-id-1 label.sk-toggleable__label-arrow:hover:before {color: black;}#sk-container-id-1 div.sk-estimator:hover label.sk-toggleable__label-arrow:before {color: black;}#sk-container-id-1 div.sk-toggleable__content {max-height: 0;max-width: 0;overflow: hidden;text-align: left;background-color: #f0f8ff;}#sk-container-id-1 div.sk-toggleable__content pre {margin: 0.2em;color: black;border-radius: 0.25em;background-color: #f0f8ff;}#sk-container-id-1 input.sk-toggleable__control:checked~div.sk-toggleable__content {max-height: 200px;max-width: 100%;overflow: auto;}#sk-container-id-1 input.sk-toggleable__control:checked~label.sk-toggleable__label-arrow:before {content: \"▾\";}#sk-container-id-1 div.sk-estimator input.sk-toggleable__control:checked~label.sk-toggleable__label {background-color: #d4ebff;}#sk-container-id-1 div.sk-label input.sk-toggleable__control:checked~label.sk-toggleable__label {background-color: #d4ebff;}#sk-container-id-1 input.sk-hidden--visually {border: 0;clip: rect(1px 1px 1px 1px);clip: rect(1px, 1px, 1px, 1px);height: 1px;margin: -1px;overflow: hidden;padding: 0;position: absolute;width: 1px;}#sk-container-id-1 div.sk-estimator {font-family: monospace;background-color: #f0f8ff;border: 1px dotted black;border-radius: 0.25em;box-sizing: border-box;margin-bottom: 0.5em;}#sk-container-id-1 div.sk-estimator:hover {background-color: #d4ebff;}#sk-container-id-1 div.sk-parallel-item::after {content: \"\";width: 100%;border-bottom: 1px solid gray;flex-grow: 1;}#sk-container-id-1 div.sk-label:hover label.sk-toggleable__label {background-color: #d4ebff;}#sk-container-id-1 div.sk-serial::before {content: \"\";position: absolute;border-left: 1px solid gray;box-sizing: border-box;top: 0;bottom: 0;left: 50%;z-index: 0;}#sk-container-id-1 div.sk-serial {display: flex;flex-direction: column;align-items: center;background-color: white;padding-right: 0.2em;padding-left: 0.2em;position: relative;}#sk-container-id-1 div.sk-item {position: relative;z-index: 1;}#sk-container-id-1 div.sk-parallel {display: flex;align-items: stretch;justify-content: center;background-color: white;position: relative;}#sk-container-id-1 div.sk-item::before, #sk-container-id-1 div.sk-parallel-item::before {content: \"\";position: absolute;border-left: 1px solid gray;box-sizing: border-box;top: 0;bottom: 0;left: 50%;z-index: -1;}#sk-container-id-1 div.sk-parallel-item {display: flex;flex-direction: column;z-index: 1;position: relative;background-color: white;}#sk-container-id-1 div.sk-parallel-item:first-child::after {align-self: flex-end;width: 50%;}#sk-container-id-1 div.sk-parallel-item:last-child::after {align-self: flex-start;width: 50%;}#sk-container-id-1 div.sk-parallel-item:only-child::after {width: 0;}#sk-container-id-1 div.sk-dashed-wrapped {border: 1px dashed gray;margin: 0 0.4em 0.5em 0.4em;box-sizing: border-box;padding-bottom: 0.4em;background-color: white;}#sk-container-id-1 div.sk-label label {font-family: monospace;font-weight: bold;display: inline-block;line-height: 1.2em;}#sk-container-id-1 div.sk-label-container {text-align: center;}#sk-container-id-1 div.sk-container {/* jupyter's `normalize.less` sets `[hidden] { display: none; }` but bootstrap.min.css set `[hidden] { display: none !important; }` so we also need the `!important` here to be able to override the default hidden behavior on the sphinx rendered scikit-learn.org. See: https://github.com/scikit-learn/scikit-learn/issues/21755 */display: inline-block !important;position: relative;}#sk-container-id-1 div.sk-text-repr-fallback {display: none;}</style><div id=\"sk-container-id-1\" class=\"sk-top-container\"><div class=\"sk-text-repr-fallback\"><pre>RandomForestRegressor(random_state=42)</pre><b>In a Jupyter environment, please rerun this cell to show the HTML representation or trust the notebook. <br />On GitHub, the HTML representation is unable to render, please try loading this page with nbviewer.org.</b></div><div class=\"sk-container\" hidden><div class=\"sk-item\"><div class=\"sk-estimator sk-toggleable\"><input class=\"sk-toggleable__control sk-hidden--visually\" id=\"sk-estimator-id-1\" type=\"checkbox\" checked><label for=\"sk-estimator-id-1\" class=\"sk-toggleable__label sk-toggleable__label-arrow\">RandomForestRegressor</label><div class=\"sk-toggleable__content\"><pre>RandomForestRegressor(random_state=42)</pre></div></div></div></div></div>"
            ]
          },
          "metadata": {},
          "execution_count": 13
        }
      ]
    },
    {
      "cell_type": "code",
      "source": [
        "svm_predictions = svm_model.predict(X_test_scaled)\n",
        "rf_predictions = rf_model.predict(X_test)\n"
      ],
      "metadata": {
        "id": "ThSUuICwbsuZ"
      },
      "execution_count": null,
      "outputs": []
    },
    {
      "cell_type": "code",
      "source": [
        "combined_predictions = (svm_predictions + rf_predictions) / 2\n"
      ],
      "metadata": {
        "id": "iugPqAMebxpH"
      },
      "execution_count": null,
      "outputs": []
    },
    {
      "cell_type": "code",
      "source": [
        "mse = mean_squared_error(y_test, combined_predictions)\n",
        "rmse = mse**0.5\n",
        "r2 = r2_score(y_test, combined_predictions)\n"
      ],
      "metadata": {
        "id": "vVfzCOYgbz1D"
      },
      "execution_count": null,
      "outputs": []
    },
    {
      "cell_type": "code",
      "source": [
        "\n",
        "print(f\"Combined Model Mean Squared Error: {mse}\")\n",
        "print(f\"Combined Model Root Mean Squared Error: {rmse}\")\n",
        "print(f\"Combined Model R-squared: {r2}\")"
      ],
      "metadata": {
        "colab": {
          "base_uri": "https://localhost:8080/"
        },
        "id": "ydD7R-cbb1vP",
        "outputId": "c94544c6-a4d4-40e9-c11a-24e0f9e6445b"
      },
      "execution_count": null,
      "outputs": [
        {
          "output_type": "stream",
          "name": "stdout",
          "text": [
            "Combined Model Mean Squared Error: 9660490.704963705\n",
            "Combined Model Root Mean Squared Error: 3108.132993448592\n",
            "Combined Model R-squared: 0.4506450518903148\n"
          ]
        }
      ]
    },
    {
      "cell_type": "code",
      "source": [
        "X_scaled = scaler.transform(X)  # Scale the features for SVM\n",
        "merged_data['Predicted_Price'] = (svm_model.predict(X_scaled) + rf_model.predict(X)) / 2"
      ],
      "metadata": {
        "id": "e71dQkg5b36_"
      },
      "execution_count": null,
      "outputs": []
    },
    {
      "cell_type": "code",
      "source": [
        "top_crops_distinct = merged_data[['label_mapped', 'Predicted_Price']] \\\n",
        "    .drop_duplicates(subset=['label_mapped']) \\\n",
        "    .sort_values(by='Predicted_Price', ascending=False) \\\n",
        "    .head(3)"
      ],
      "metadata": {
        "id": "dF0bsBo8b65k"
      },
      "execution_count": null,
      "outputs": []
    },
    {
      "cell_type": "code",
      "source": [
        "print(\"\\nTop 3 distinct recommended crops based on market price:\")\n",
        "print(top_crops_distinct)"
      ],
      "metadata": {
        "colab": {
          "base_uri": "https://localhost:8080/"
        },
        "id": "YXrMcA0sb9fV",
        "outputId": "d817cd34-ad56-4e43-8ce8-6d7414240078"
      },
      "execution_count": null,
      "outputs": [
        {
          "output_type": "stream",
          "name": "stdout",
          "text": [
            "\n",
            "Top 3 distinct recommended crops based on market price:\n",
            "                        label_mapped  Predicted_Price\n",
            "23000                    Pomegranate      9437.951367\n",
            "17000  Kabuli Chana(Chickpeas-White)      8757.602517\n",
            "66800                         Grapes      8622.173187\n"
          ]
        }
      ]
    },
    {
      "cell_type": "code",
      "source": [
        "top_crops.to_csv('top_crops_recommendation_hybrid.csv', index=False)"
      ],
      "metadata": {
        "id": "Gny0DpAOb_iO"
      },
      "execution_count": null,
      "outputs": []
    },
    {
      "cell_type": "code",
      "source": [],
      "metadata": {
        "id": "-6xHD2JVcBTm"
      },
      "execution_count": null,
      "outputs": []
    }
  ]
}